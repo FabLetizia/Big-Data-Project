{
 "cells": [
  {
   "cell_type": "code",
   "execution_count": 1,
   "metadata": {},
   "outputs": [],
   "source": [
    "import pandas as pd\n",
    "\n",
    "def expand_and_reduce_csv(input_file, output_file_50, output_file_100, output_file_50_less):\n",
    "   \n",
    "    df = pd.read_csv(input_file, sep=';')\n",
    "    \n",
    "    # Row number for 150% dataset\n",
    "    rows_50_percent = int(len(df) * 1.5)\n",
    "    \n",
    "    # Row number for 200% dataset\n",
    "    rows_100_percent = len(df) * 2\n",
    "    \n",
    "    # Row number for 50% dataset\n",
    "    rows_50_less = len(df) // 2\n",
    "    \n",
    "    # Generate file 50% larger\n",
    "    df_50_percent = df.sample(n=rows_50_percent, replace=True).reset_index(drop=True)\n",
    "    df_50_percent.to_csv(output_file_50, index=False)\n",
    "    \n",
    "    # Generate file 100% larger\n",
    "    df_100_percent = df.sample(n=rows_100_percent, replace=True).reset_index(drop=True)\n",
    "    df_100_percent.to_csv(output_file_100, index=False)\n",
    "    \n",
    "    # Generate file 50% smaller\n",
    "    df_50_less = df.sample(n=rows_50_less, replace=False).reset_index(drop=True)\n",
    "    df_50_less.to_csv(output_file_50_less, index=False)\n",
    "\n"
   ]
  },
  {
   "cell_type": "code",
   "execution_count": 3,
   "metadata": {},
   "outputs": [
    {
     "name": "stderr",
     "output_type": "stream",
     "text": [
      "/var/folders/29/hp9758mj5zj7dcbpxts76vt00000gn/T/ipykernel_77271/3851978425.py:6: DtypeWarning: Columns (9,10) have mixed types. Specify dtype option on import or set low_memory=False.\n",
      "  df = pd.read_csv(input_file, sep=';')\n"
     ]
    }
   ],
   "source": [
    "input_file = '../dataset/historical_stocks_data.csv'\n",
    "output_file_50 = '../dataset/historical_stocks_data_150.csv'\n",
    "output_file_100 = '../dataset/historical_stocks_data_200.csv'\n",
    "output_file_50_less = '../dataset/historical_stocks_data_50.csv'\n",
    "\n",
    "expand_and_reduce_csv(input_file, output_file_50, output_file_100, output_file_50_less)\n"
   ]
  }
 ],
 "metadata": {
  "kernelspec": {
   "display_name": "base",
   "language": "python",
   "name": "python3"
  },
  "language_info": {
   "codemirror_mode": {
    "name": "ipython",
    "version": 3
   },
   "file_extension": ".py",
   "mimetype": "text/x-python",
   "name": "python",
   "nbconvert_exporter": "python",
   "pygments_lexer": "ipython3",
   "version": "3.11.7"
  }
 },
 "nbformat": 4,
 "nbformat_minor": 2
}
