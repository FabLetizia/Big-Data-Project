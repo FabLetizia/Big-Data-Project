{
 "cells": [
  {
   "cell_type": "code",
   "execution_count": null,
   "metadata": {},
   "outputs": [],
   "source": [
    "from pyspark.sql import SparkSession\n",
    "from ydata_profiling import ProfileReport\n",
    "from ydata_profiling.config import Settings\n",
    "import warnings\n",
    "from matplotlib import MatplotlibDeprecationWarning"
   ]
  },
  {
   "cell_type": "code",
   "execution_count": null,
   "metadata": {},
   "outputs": [],
   "source": [
    "def generate_stats(input,output):\n",
    "    spark_session = (\n",
    "        SparkSession.builder.appName(\"SparkProfiling\").master(\"local[*]\").config(\"spark.executor.memory\", \"4g\").config(\"spark.driver.memory\", \"4g\").getOrCreate()\n",
    "    )\n",
    "\n",
    "    print(spark_session.sparkContext.uiWebUrl)\n",
    "\n",
    "\n",
    "    # Carica il dataset in un DataFrame Spark\n",
    "    spark_df = spark_session.read.csv(input, header=True, sep=';')\n",
    "\n",
    "\n",
    "    cfg = Settings()\n",
    "    cfg.infer_dtypes = False\n",
    "    cfg.correlations[\"auto\"].calculate = False\n",
    "    cfg.correlations[\"pearson\"].calculate = False\n",
    "    cfg.correlations[\"spearman\"].calculate = False\n",
    "    cfg.interactions.continuous = False\n",
    "    cfg.missing_diagrams[\"bar\"] = False\n",
    "    cfg.missing_diagrams[\"heatmap\"] = False\n",
    "    cfg.missing_diagrams[\"matrix\"] = False\n",
    "    cfg.samples.tail = 0\n",
    "    cfg.samples.random = 0\n",
    "\n",
    "    # Create and start the monitoring process\n",
    "    warnings.filterwarnings(\"ignore\", category=MatplotlibDeprecationWarning)\n",
    "\n",
    "    profile = ProfileReport(spark_df, config=cfg)\n",
    "\n",
    "    # Genera e salva il report di profilazione\n",
    "    profile.to_file(output)"
   ]
  },
  {
   "cell_type": "code",
   "execution_count": null,
   "metadata": {},
   "outputs": [],
   "source": [
    "input_hdfs_path = '/input/historical_stock_prices.csv'\n",
    "output = 'stock_prices_report.html'\n",
    "generate_stats(input_hdfs_path,output)"
   ]
  },
  {
   "cell_type": "code",
   "execution_count": null,
   "metadata": {},
   "outputs": [],
   "source": [
    "input_hdfs_path = '/input/historical_stocks.csv'\n",
    "output = 'stock_report.html'\n",
    "generate_stats(input_hdfs_path,output)"
   ]
  },
  {
   "cell_type": "code",
   "execution_count": null,
   "metadata": {},
   "outputs": [],
   "source": [
    "input_hdfs_path = '/input/historical_stocks_data.csv'\n",
    "output = 'stocks_data_report.html'\n",
    "generate_stats(input_hdfs_path,output)"
   ]
  }
 ],
 "metadata": {
  "kernelspec": {
   "display_name": "base",
   "language": "python",
   "name": "python3"
  },
  "language_info": {
   "codemirror_mode": {
    "name": "ipython",
    "version": 3
   },
   "file_extension": ".py",
   "mimetype": "text/x-python",
   "name": "python",
   "nbconvert_exporter": "python",
   "pygments_lexer": "ipython3",
   "version": "3.11.7"
  }
 },
 "nbformat": 4,
 "nbformat_minor": 2
}
