{
 "cells": [
  {
   "cell_type": "markdown",
   "metadata": {},
   "source": [
    "## DATA CLEANING"
   ]
  },
  {
   "cell_type": "markdown",
   "metadata": {},
   "source": [
    "the historical_stock_price dataset has more records than historical_stocks because for the single action there are associated with multiple records relating to the day on which that data is taken. The goal of this notebook is to merge the two datasets on the 'ticker' field (unique). Clean the dataset of the 'adj_close' column which is unuseful, and modify the separator between fields ',' to ';' (this is because in some fields, like name, ',' are present)."
   ]
  },
  {
   "cell_type": "code",
   "execution_count": 1,
   "metadata": {},
   "outputs": [],
   "source": [
    "import pandas as pd"
   ]
  },
  {
   "cell_type": "code",
   "execution_count": 5,
   "metadata": {},
   "outputs": [],
   "source": [
    "# dataset loading\n",
    "historical_stock_price = pd.read_csv('../dataset/historical_stock_prices.csv')\n",
    "historical_stocks = pd.read_csv('../dataset/historical_stocks.csv')"
   ]
  },
  {
   "cell_type": "code",
   "execution_count": 6,
   "metadata": {},
   "outputs": [],
   "source": [
    "# column removal of 'adj_close'\n",
    "historical_stock_price = historical_stock_price.drop(columns=['adj_close'])"
   ]
  },
  {
   "cell_type": "code",
   "execution_count": 7,
   "metadata": {},
   "outputs": [],
   "source": [
    "# Merging and storing to csv file\n",
    "merged_data = pd.merge(historical_stock_price, historical_stocks, on='ticker')\n",
    "merged_data.to_csv('../dataset/historical_docks_data.csv', index=False, header=True, sep=';')\n",
    "# sep = ';' pure nel read_csv"
   ]
  }
 ],
 "metadata": {
  "kernelspec": {
   "display_name": "base",
   "language": "python",
   "name": "python3"
  },
  "language_info": {
   "codemirror_mode": {
    "name": "ipython",
    "version": 3
   },
   "file_extension": ".py",
   "mimetype": "text/x-python",
   "name": "python",
   "nbconvert_exporter": "python",
   "pygments_lexer": "ipython3",
   "version": "3.11.7"
  }
 },
 "nbformat": 4,
 "nbformat_minor": 2
}
